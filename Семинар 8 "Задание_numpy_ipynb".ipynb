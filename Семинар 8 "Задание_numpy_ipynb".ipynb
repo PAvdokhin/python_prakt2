{
  "nbformat": 4,
  "nbformat_minor": 0,
  "metadata": {
    "colab": {
      "provenance": [],
      "toc_visible": true,
      "include_colab_link": true
    },
    "kernelspec": {
      "name": "python3",
      "display_name": "Python 3"
    }
  },
  "cells": [
    {
      "cell_type": "markdown",
      "metadata": {
        "id": "view-in-github",
        "colab_type": "text"
      },
      "source": [
        "<a href=\"https://colab.research.google.com/github/PAvdokhin/python_prakt2/blob/sem_8/%D0%A1%D0%B5%D0%BC%D0%B8%D0%BD%D0%B0%D1%80%208%20%22%D0%97%D0%B0%D0%B4%D0%B0%D0%BD%D0%B8%D0%B5_numpy_ipynb%22.ipynb\" target=\"_parent\"><img src=\"https://colab.research.google.com/assets/colab-badge.svg\" alt=\"Open In Colab\"/></a>"
      ]
    },
    {
      "cell_type": "markdown",
      "metadata": {
        "id": "1zL9R4fiXHLM"
      },
      "source": [
        "# Семинар NumPy\n",
        "\n",
        "При выполнении заданий не используйте циклы и условные операторы. \n",
        "Внизу есть подсказки, какие функции можно/нужно использовать в некоторых из заданий, чтобы не тратить время на их поиск:)"
      ]
    },
    {
      "cell_type": "code",
      "metadata": {
        "id": "57NDzj2RVUsl"
      },
      "source": [
        "from google.colab import drive\n",
        "drive.mount('/content/drive')"
      ],
      "execution_count": null,
      "outputs": []
    },
    {
      "cell_type": "markdown",
      "metadata": {
        "id": "VYjev741XMcN"
      },
      "source": [
        "1. Создайте вектор, состоящий из нулей, длиной 10."
      ]
    },
    {
      "cell_type": "code",
      "metadata": {
        "id": "Tm4j-1qEXUQv",
        "outputId": "e6e5a3ce-5e2f-4935-fee1-768d4ae17d72",
        "colab": {
          "base_uri": "https://localhost:8080/"
        }
      },
      "source": [
        "import numpy as np\n",
        "a = np.zeros((10))\n",
        "\n",
        "print(a)\n",
        "print(a.size)"
      ],
      "execution_count": null,
      "outputs": [
        {
          "output_type": "stream",
          "name": "stdout",
          "text": [
            "[0. 0. 0. 0. 0. 0. 0. 0. 0. 0.]\n",
            "10\n"
          ]
        }
      ]
    },
    {
      "cell_type": "markdown",
      "metadata": {
        "id": "8udUGXuJXZLN"
      },
      "source": [
        "2. Создайте вектор, состоящий из нулей, длиной 10, где 4-ым элементом будет 1."
      ]
    },
    {
      "cell_type": "code",
      "metadata": {
        "id": "acKL30ZbXd4i",
        "outputId": "944f8d75-74c4-40be-c818-1fc07ce9caf9",
        "colab": {
          "base_uri": "https://localhost:8080/"
        }
      },
      "source": [
        "import numpy as np\n",
        "a = np.zeros((10))\n",
        "a[3] = 1\n",
        "\n",
        "print(a)\n",
        "print(a.size)"
      ],
      "execution_count": null,
      "outputs": [
        {
          "output_type": "stream",
          "name": "stdout",
          "text": [
            "[0. 0. 0. 1. 0. 0. 0. 0. 0. 0.]\n",
            "10\n"
          ]
        }
      ]
    },
    {
      "cell_type": "markdown",
      "metadata": {
        "id": "Br7JJmccXfqX"
      },
      "source": [
        "3. Создайте вектор длиной 10, заполненный числом 14,8."
      ]
    },
    {
      "cell_type": "code",
      "metadata": {
        "id": "oPpKXvsJXjMh",
        "outputId": "26c472f8-04b3-4843-f164-abde24ad6798",
        "colab": {
          "base_uri": "https://localhost:8080/"
        }
      },
      "source": [
        "import numpy as np\n",
        "b = np.full((10), [14.8])\n",
        "print((b))"
      ],
      "execution_count": null,
      "outputs": [
        {
          "output_type": "stream",
          "name": "stdout",
          "text": [
            "[14.8 14.8 14.8 14.8 14.8 14.8 14.8 14.8 14.8 14.8]\n"
          ]
        }
      ]
    },
    {
      "cell_type": "markdown",
      "metadata": {
        "id": "szIfatLsXn5s"
      },
      "source": [
        "4. Создайте вектор со значениями от 23 до 38."
      ]
    },
    {
      "cell_type": "code",
      "metadata": {
        "id": "h1LFE2W1XpOq",
        "outputId": "d198fb62-0bf7-4d87-afaf-97cf03de3709",
        "colab": {
          "base_uri": "https://localhost:8080/"
        }
      },
      "source": [
        "import numpy as np\n",
        "a = np.arange(23, 39)\n",
        "print(a)"
      ],
      "execution_count": null,
      "outputs": [
        {
          "output_type": "stream",
          "name": "stdout",
          "text": [
            "[23 24 25 26 27 28 29 30 31 32 33 34 35 36 37 38]\n"
          ]
        }
      ]
    },
    {
      "cell_type": "markdown",
      "metadata": {
        "id": "WrldVB5BXuN9"
      },
      "source": [
        "5. Переверните вектор (последнее значение становится первым и т.д.)."
      ]
    },
    {
      "cell_type": "code",
      "metadata": {
        "id": "kdcam5T4Xta-",
        "outputId": "ae5b4417-2dbb-47c5-f899-4124d23cfdf0",
        "colab": {
          "base_uri": "https://localhost:8080/"
        }
      },
      "source": [
        "import numpy as np\n",
        "a = np.arange(5)\n",
        "print(a)\n",
        "print(a[::-1])"
      ],
      "execution_count": null,
      "outputs": [
        {
          "output_type": "stream",
          "name": "stdout",
          "text": [
            "[0 1 2 3 4]\n",
            "[4 3 2 1 0]\n"
          ]
        }
      ]
    },
    {
      "cell_type": "markdown",
      "metadata": {
        "id": "X76wPcwFX1FU"
      },
      "source": [
        "6. Из вектора длиной 9 создайте матрицу 3x3."
      ]
    },
    {
      "cell_type": "code",
      "metadata": {
        "id": "fIfDb8rrX3UE",
        "outputId": "40472465-722c-4bc7-8ee8-9f33ad37a0e9",
        "colab": {
          "base_uri": "https://localhost:8080/"
        }
      },
      "source": [
        "import numpy as np\n",
        "a = np.arange(1, 10)\n",
        "b = a.reshape(3, 3)\n",
        "print(b)"
      ],
      "execution_count": null,
      "outputs": [
        {
          "output_type": "stream",
          "name": "stdout",
          "text": [
            "[[1 2 3]\n",
            " [4 5 6]\n",
            " [7 8 9]]\n"
          ]
        }
      ]
    },
    {
      "cell_type": "markdown",
      "metadata": {
        "id": "gDkVef16X7Wy"
      },
      "source": [
        "7. Создайте матрицу размерностью 3x3 и значениями от 0 до 8."
      ]
    },
    {
      "cell_type": "code",
      "metadata": {
        "id": "fLgDBLjrX841",
        "outputId": "9d0f2198-4fcf-4a2b-b467-ac16b2931e0c",
        "colab": {
          "base_uri": "https://localhost:8080/"
        }
      },
      "source": [
        "import numpy as np\n",
        "a = np.arange(9).reshape(3, 3)\n",
        "print(a)\n",
        "\n"
      ],
      "execution_count": null,
      "outputs": [
        {
          "output_type": "stream",
          "name": "stdout",
          "text": [
            "[[0 1 2]\n",
            " [3 4 5]\n",
            " [6 7 8]]\n"
          ]
        }
      ]
    },
    {
      "cell_type": "markdown",
      "metadata": {
        "id": "rsH67dSFYG-e"
      },
      "source": [
        "8. Найдите индексы ненулевых элементов в массиве `a`.\n"
      ]
    },
    {
      "cell_type": "code",
      "metadata": {
        "id": "m4GkHiaEYOOB",
        "outputId": "e9ee216d-de7b-4a96-9c7c-3223312ba3db",
        "colab": {
          "base_uri": "https://localhost:8080/"
        }
      },
      "source": [
        "a = np.array([1, 2, 0, 0, 4, 0])\n",
        "print(np.nonzero(a))\n"
      ],
      "execution_count": null,
      "outputs": [
        {
          "output_type": "stream",
          "name": "stdout",
          "text": [
            "(array([0, 1, 4]),)\n"
          ]
        }
      ]
    },
    {
      "cell_type": "markdown",
      "metadata": {
        "id": "pMrFQsVZYcsw"
      },
      "source": [
        "9. Создайте массив 10x10 со случайными значениями и найдите наименьшее и наибольшее значения в нём."
      ]
    },
    {
      "cell_type": "code",
      "metadata": {
        "id": "N0uSEZGUYjqd",
        "outputId": "c35d211a-6e46-4c73-f350-1bd52bd7318f",
        "colab": {
          "base_uri": "https://localhost:8080/"
        }
      },
      "source": [
        "a = np.random.random((10, 10))\n",
        "print(a.min(), a.max())"
      ],
      "execution_count": null,
      "outputs": [
        {
          "output_type": "stream",
          "name": "stdout",
          "text": [
            "0.03964774263967008 0.9925871838649266\n"
          ]
        }
      ]
    },
    {
      "cell_type": "markdown",
      "metadata": {
        "id": "moNKGoAaYmzo"
      },
      "source": [
        "10. Создайте вектор длиной 15 со случайными значениями и найдите индексы, содержащие наименьшее и наибольшее значения."
      ]
    },
    {
      "cell_type": "code",
      "metadata": {
        "id": "YPlERdbeYwUm",
        "outputId": "f6551f06-b599-417d-8501-4fd7840ed7a7",
        "colab": {
          "base_uri": "https://localhost:8080/"
        }
      },
      "source": [
        "a = np.random.random((15))\n",
        "print(np.argmax(a), np.argmin(a))"
      ],
      "execution_count": null,
      "outputs": [
        {
          "output_type": "stream",
          "name": "stdout",
          "text": [
            "14 4\n"
          ]
        }
      ]
    },
    {
      "cell_type": "markdown",
      "metadata": {
        "id": "HZJ2j17cY3nv"
      },
      "source": [
        "11. Создайте вектор со случайными значениями размерностью 30 и вычислите среднее значение."
      ]
    },
    {
      "cell_type": "code",
      "metadata": {
        "id": "WavvQJdlY8yt",
        "outputId": "45f1da49-1c66-419f-ec69-bab5e840f423",
        "colab": {
          "base_uri": "https://localhost:8080/"
        }
      },
      "source": [
        "a = np.random.random((30))\n",
        "print(np.mean(a))"
      ],
      "execution_count": null,
      "outputs": [
        {
          "output_type": "stream",
          "name": "stdout",
          "text": [
            "0.5723827302644773\n"
          ]
        }
      ]
    },
    {
      "cell_type": "markdown",
      "metadata": {
        "id": "1IQ_5aG_ZAEd"
      },
      "source": [
        "12. Создайте вектор со случайными значениями размерностью 3х10 и вычислите отдельно среднее значение в каждой строке (размерность итогового массива 3х1) и в каждом столбце (размерность итогового массива 10x1)."
      ]
    },
    {
      "cell_type": "code",
      "metadata": {
        "id": "tefID2iZY_Yr",
        "outputId": "8e871498-ac5c-4df0-a866-91d3ff567e4b",
        "colab": {
          "base_uri": "https://localhost:8080/"
        }
      },
      "source": [
        "a = np.random.random((3, 10))\n",
        "print(np.mean(a, axis = 1))\n",
        "print(np.mean(a, axis = 0))"
      ],
      "execution_count": null,
      "outputs": [
        {
          "output_type": "stream",
          "name": "stdout",
          "text": [
            "[0.44549652 0.4711617  0.57137079]\n",
            "[0.60644819 0.58132147 0.41796016 0.6748645  0.23800657 0.4015179\n",
            " 0.66872184 0.25364943 0.56047398 0.55713268]\n"
          ]
        }
      ]
    },
    {
      "cell_type": "markdown",
      "metadata": {
        "id": "f0FZM3oCZK9v"
      },
      "source": [
        "13. Добавьте границы (состоящие из нулей) вокруг существующего массива. В итоге должен получиться массив такого вида:\n",
        "\n",
        "``` \n",
        "00000\n",
        "01110\n",
        "01110\n",
        "00000\n",
        " ```"
      ]
    },
    {
      "cell_type": "code",
      "metadata": {
        "id": "ux03YRnwZdCl",
        "outputId": "5a0c5a91-d5af-4fa7-963c-5ad73dd995aa",
        "colab": {
          "base_uri": "https://localhost:8080/"
        }
      },
      "source": [
        "a = np.ones((2, 3))\n",
        "b = np.pad(a, pad_width = 1, constant_values=0)\n",
        "print(b)"
      ],
      "execution_count": null,
      "outputs": [
        {
          "output_type": "stream",
          "name": "stdout",
          "text": [
            "[[0. 0. 0. 0. 0.]\n",
            " [0. 1. 1. 1. 0.]\n",
            " [0. 1. 1. 1. 0.]\n",
            " [0. 0. 0. 0. 0.]]\n"
          ]
        }
      ]
    },
    {
      "cell_type": "markdown",
      "metadata": {
        "id": "Vvo8v25AZkKD"
      },
      "source": [
        "14. Умножьте матрицу 5x3 на матрицу 3х2."
      ]
    },
    {
      "cell_type": "code",
      "metadata": {
        "id": "pqYsokZCZl_J",
        "outputId": "38139614-0911-402a-e2eb-eb92f6b40c65",
        "colab": {
          "base_uri": "https://localhost:8080/"
        }
      },
      "source": [
        "a = np.random.randint(1, 16, size = (5, 3))\n",
        "b = np.random.randint(1,16, size = (3, 2))\n",
        "c = np.matmul(a, b)\n",
        "print(a)\n",
        "print(b)\n",
        "print(c)"
      ],
      "execution_count": null,
      "outputs": [
        {
          "output_type": "stream",
          "name": "stdout",
          "text": [
            "[[ 3  7  1]\n",
            " [ 9 13  1]\n",
            " [ 1  9  3]\n",
            " [15  3  6]\n",
            " [11  6  2]]\n",
            "[[ 9 11]\n",
            " [ 6  7]\n",
            " [ 5  7]]\n",
            "[[ 74  89]\n",
            " [164 197]\n",
            " [ 78  95]\n",
            " [183 228]\n",
            " [145 177]]\n"
          ]
        }
      ]
    },
    {
      "cell_type": "markdown",
      "metadata": {
        "id": "4BJkjmgSZpci"
      },
      "source": [
        "15. Найдите общие значения двух массивов (элементы в их пересечении)."
      ]
    },
    {
      "cell_type": "code",
      "metadata": {
        "id": "YPzbPVnRZrN9",
        "outputId": "56aa4230-1238-4769-b18c-906545d0301b",
        "colab": {
          "base_uri": "https://localhost:8080/"
        }
      },
      "source": [
        "a = np.random.randint(1, 21, size = (6))\n",
        "b = np.random.randint(1, 21, size = (6))\n",
        "print(a)\n",
        "print(b)\n",
        "print(np.intersect1d(a, b))\n"
      ],
      "execution_count": null,
      "outputs": [
        {
          "output_type": "stream",
          "name": "stdout",
          "text": [
            "[ 1  2  5  1  4 18]\n",
            "[20 18 14 16 20 17]\n",
            "[18]\n"
          ]
        }
      ]
    },
    {
      "cell_type": "markdown",
      "metadata": {
        "id": "_SsPWVspZuFS"
      },
      "source": [
        "16. Создайте вектор со случайными значениями длиной 10 и отсортируйте его."
      ]
    },
    {
      "cell_type": "code",
      "metadata": {
        "id": "Aos67m-oZxXm",
        "colab": {
          "base_uri": "https://localhost:8080/"
        },
        "outputId": "e44ece9b-caf7-4208-af80-7d3731f0ea7f"
      },
      "source": [
        "from numpy.core.fromnumeric import sort\n",
        "a = np.random.randint(1,101, size = (10))\n",
        "sort(a)\n",
        "print(a)"
      ],
      "execution_count": null,
      "outputs": [
        {
          "output_type": "stream",
          "name": "stdout",
          "text": [
            "[30 83 52 80  7 38 26 45 83 10]\n"
          ]
        }
      ]
    },
    {
      "cell_type": "markdown",
      "metadata": {
        "id": "pvF2-2AGZ0qS"
      },
      "source": [
        "17. Создайте вектор со случайными значениями размерностью 10 и замените наибольшее значение нулём."
      ]
    },
    {
      "cell_type": "code",
      "metadata": {
        "id": "sL-JNslTZ389",
        "colab": {
          "base_uri": "https://localhost:8080/"
        },
        "outputId": "c0e679c5-fb14-4ebf-eea0-09577e9b423a"
      },
      "source": [
        "a = np.random.randint(1, 101, size = (10))\n",
        "a[np.where(a == a.max())] = 0\n",
        "print(a)\n",
        "\n"
      ],
      "execution_count": null,
      "outputs": [
        {
          "output_type": "stream",
          "name": "stdout",
          "text": [
            "[18 27 17 15  0 51  2 85 66 81]\n"
          ]
        }
      ]
    },
    {
      "cell_type": "markdown",
      "metadata": {
        "id": "5R-wvp73Z6d_"
      },
      "source": [
        "18. Создайте матрицу 3х3 и “растяните” её в вектор (так, чтобы размерность стала 1х9) по крайней мере двумя способами.\n"
      ]
    },
    {
      "cell_type": "code",
      "metadata": {
        "id": "A_acCUK3aMn4",
        "colab": {
          "base_uri": "https://localhost:8080/"
        },
        "outputId": "57882172-4eb2-491d-e498-3a2c2e5697dc"
      },
      "source": [
        "a = np.random.randint(1, 21, size = (3, 3))\n",
        "b = np.random.randint(1, 21, size = (3, 3))\n",
        "print(a)\n",
        "print(a.ravel())\n",
        "print(b)\n",
        "print(b.flatten())\n"
      ],
      "execution_count": null,
      "outputs": [
        {
          "output_type": "stream",
          "name": "stdout",
          "text": [
            "[[ 4  5 16]\n",
            " [17  8 12]\n",
            " [ 8 15 16]]\n",
            "[ 4  5 16 17  8 12  8 15 16]\n",
            "[[ 1  8  6]\n",
            " [ 8  6  6]\n",
            " [13  4 18]]\n",
            "[ 1  8  6  8  6  6 13  4 18]\n"
          ]
        }
      ]
    },
    {
      "cell_type": "markdown",
      "metadata": {
        "id": "H86sL5kbaNVX"
      },
      "source": [
        "19. Создайте матрицу 4х4 и из каждой строки вычтите максимальное значение этой строки. Обратите внимание, что в полученной матрице в каждой строке одним из элементов должен быть 0.\n",
        "\n",
        "Пример: из матрицы\n",
        "\n",
        "```\n",
        "[[0.60682249 0.7449185  0.03185808 0.15218245]\n",
        " [0.55140296 0.36923363 0.52486168 0.72297047]\n",
        " [0.63520354 0.54560057 0.9501767  0.05801644]\n",
        " [0.14608529 0.56327529 0.90571396 0.66212734]]\n",
        "```\n",
        "должна получиться матрица\n",
        "\n",
        "```\n",
        "[[-0.138096    0.         -0.71306042 -0.59273604]\n",
        " [-0.17156751 -0.35373684 -0.19810879  0.        ]\n",
        " [-0.31497315 -0.40457613  0.         -0.89216025]\n",
        " [-0.75962867 -0.34243867  0.         -0.24358662]]\n",
        "```\n",
        "\n",
        "***Подсказка***: при нахождении максимального элемента укажите аргумент `keepdims=True`.\n"
      ]
    },
    {
      "cell_type": "code",
      "metadata": {
        "id": "Mf2QGutKaQV0",
        "colab": {
          "base_uri": "https://localhost:8080/"
        },
        "outputId": "55113e8d-d7ca-43dd-8a13-75eaf73ad28b"
      },
      "source": [
        "a = np.random.randint(1, 21, size = (4, 4))\n",
        "a.max(axis=1, keepdims = True)\n",
        "b = a - a.max(axis=1, keepdims=True)\n",
        "\n",
        "print(a)\n",
        "print(a.max(axis=1, keepdims = True))\n",
        "print(b)\n"
      ],
      "execution_count": null,
      "outputs": [
        {
          "output_type": "stream",
          "name": "stdout",
          "text": [
            "[[17  5  3  4]\n",
            " [ 2 15  4 20]\n",
            " [16  1  5  4]\n",
            " [20 14  3 12]]\n",
            "[[17]\n",
            " [20]\n",
            " [16]\n",
            " [20]]\n",
            "[[  0 -12 -14 -13]\n",
            " [-18  -5 -16   0]\n",
            " [  0 -15 -11 -12]\n",
            " [  0  -6 -17  -8]]\n"
          ]
        }
      ]
    },
    {
      "cell_type": "markdown",
      "metadata": {
        "id": "E9nTmiNsaTwr"
      },
      "source": [
        "20. Считайте массив из текстового файла (предварительно его создав, элементы массива - числа с плавающей точкой (float)) и совершите над ним какую-либо операцию.\n",
        "\n",
        "Пример текста в файле:\n",
        "`1.2 5.6 7.8`"
      ]
    },
    {
      "cell_type": "code",
      "metadata": {
        "id": "zwsrjJxvaXmR",
        "colab": {
          "base_uri": "https://localhost:8080/"
        },
        "outputId": "5a051180-f65f-4750-c805-11ae1b9974ad"
      },
      "source": [
        "with open(\"np20.txt\", \"r\") as f:\n",
        "  print(f.read())"
      ],
      "execution_count": null,
      "outputs": [
        {
          "output_type": "stream",
          "name": "stdout",
          "text": [
            "9, 8, 2, 10, 5\n"
          ]
        }
      ]
    },
    {
      "cell_type": "markdown",
      "metadata": {
        "id": "r7ASlvEjabU7"
      },
      "source": [
        "\n",
        "\n",
        "---\n",
        "\n",
        "# Подсказки\n",
        "\n",
        "1. zeros\n",
        "3. full\n",
        "4. arange\n",
        "6. reshape\n",
        "8. nonzero\n",
        "9. Для создания массива со случайными значениями: np.random.random(shape), shape - размерность массива. Не забудьте, что если shape > 1, то размерности передаются в виде кортежа!\n",
        "10. argmax, argmin\n",
        "11. mean\n",
        "13. pad\n",
        "14. dot\n",
        "15. Инициализировать массивы можно функцией np.random.randint() - в качестве аргументов передайте свои значения. Пересечение - intersect1d\n",
        "16. sort\n",
        "18. Один способ - flatten, другой уже использовался в предыдущих заданиях.\n",
        "20. fromfile"
      ]
    },
    {
      "cell_type": "markdown",
      "source": [
        "# Новый раздел"
      ],
      "metadata": {
        "id": "yaiyustdo6EB"
      }
    }
  ]
}